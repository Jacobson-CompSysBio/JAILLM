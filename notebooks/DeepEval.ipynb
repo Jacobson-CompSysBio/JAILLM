{
 "cells": [
  {
   "cell_type": "code",
   "execution_count": 2,
   "metadata": {},
   "outputs": [],
   "source": [
    "# imports\n",
    "import re\n",
    "import json\n",
    "\n",
    "import transformers\n",
    "import torch\n",
    "\n",
    "from transformers import BitsAndBytesConfig\n",
    "from transformers import AutoModelForCausalLM, AutoTokenizer\n",
    "\n",
    "from lmformatenforcer import JsonSchemaParser\n",
    "from lmformatenforcer.integrations.transformers import (\n",
    "    build_transformers_prefix_allowed_tokens_fn,\n",
    ")\n",
    "\n",
    "from deepeval.test_case import LLMTestCase\n",
    "from deepeval import evaluate\n",
    "from deepeval.models import DeepEvalBaseLLM\n",
    "from deepeval.metrics import (HallucinationMetric, \n",
    "                              FaithfulnessMetric, \n",
    "                              BiasMetric,\n",
    "                              ToolCorrectnessMetric\n",
    "                              )\n",
    "\n",
    "from pydantic import BaseModel"
   ]
  },
  {
   "cell_type": "code",
   "execution_count": 7,
   "metadata": {},
   "outputs": [],
   "source": [
    "# define custom llm class for deepeval\n",
    "class CustomLlama3_8B(DeepEvalBaseLLM):\n",
    "    def __init__(self, model_path: str = None):\n",
    "\n",
    "        quantization_config = BitsAndBytesConfig(\n",
    "            load_in_4bit=True,\n",
    "            bnb_4bit_compute_dtype=torch.float16,\n",
    "            bnb_4bit_quant_type=\"nf4\",\n",
    "            bnb_4bit_use_double_quant=True,\n",
    "        )\n",
    "\n",
    "        model_4bit = AutoModelForCausalLM.from_pretrained(\n",
    "            model_path,\n",
    "            device_map=\"auto\",\n",
    "            quantization_config=quantization_config,\n",
    "        )\n",
    "        tokenizer = AutoTokenizer.from_pretrained(\n",
    "            model_path\n",
    "        )\n",
    "\n",
    "        self.model = model_4bit\n",
    "        self.tokenizer = tokenizer\n",
    "        self.model_name = model_path.split(\"/\")[-1]\n",
    "\n",
    "    def load_model(self):\n",
    "        return self.model\n",
    "\n",
    "    def generate(self, prompt: str, schema: BaseModel) -> BaseModel:\n",
    "        model = self.load_model()\n",
    "\n",
    "        pipeline = transformers.pipeline(\n",
    "            \"text-generation\",\n",
    "            model=model,\n",
    "            tokenizer=self.tokenizer,\n",
    "            use_cache=True,\n",
    "            device_map=\"auto\",\n",
    "            max_length=2500,\n",
    "            do_sample=True,\n",
    "            top_k=5,\n",
    "            num_return_sequences=1,\n",
    "            eos_token_id=self.tokenizer.eos_token_id,\n",
    "            pad_token_id=self.tokenizer.eos_token_id,\n",
    "        )\n",
    "\n",
    "        # Create parser required for JSON confinement using lmformatenforcer\n",
    "        parser = JsonSchemaParser(schema.model_json_schema())\n",
    "        prefix_function = build_transformers_prefix_allowed_tokens_fn(\n",
    "            pipeline.tokenizer, parser\n",
    "        )\n",
    "\n",
    "        # Output and load valid JSON\n",
    "        output_dict = pipeline(prompt, prefix_allowed_tokens_fn=prefix_function)\n",
    "        output = output_dict[0][\"generated_text\"][len(prompt):]\n",
    "\n",
    "        # remove all special tokens (whitespace, newline, etc)\n",
    "        output = output.replace('\\n', ' ').strip()\n",
    "        json_result = json.loads(output)\n",
    "\n",
    "        return schema(**json_result)\n",
    "\n",
    "    async def a_generate(self, prompt: str, schema: BaseModel) -> BaseModel:\n",
    "        return self.generate(prompt, schema)\n",
    "\n",
    "    def get_model_name(self):\n",
    "        name = self.model_name\n",
    "        return ' '.join(name.split('-'))\n",
    "\n",
    "class Schema(BaseModel):\n",
    "    answer: str"
   ]
  },
  {
   "cell_type": "code",
   "execution_count": 8,
   "metadata": {},
   "outputs": [
    {
     "data": {
      "application/vnd.jupyter.widget-view+json": {
       "model_id": "b6e26b6c478e4ba5ba12654613a3fdc3",
       "version_major": 2,
       "version_minor": 0
      },
      "text/plain": [
       "Loading checkpoint shards:   0%|          | 0/4 [00:00<?, ?it/s]"
      ]
     },
     "metadata": {},
     "output_type": "display_data"
    }
   ],
   "source": [
    "model_path = \"meta-llama/Meta-Llama-3-8B-Instruct\"\n",
    "llama = CustomLlama3_8B(model_path=model_path)\n",
    "schema = Schema"
   ]
  },
  {
   "cell_type": "code",
   "execution_count": 10,
   "metadata": {},
   "outputs": [
    {
     "name": "stdout",
     "output_type": "stream",
     "text": [
      "answer='TAF13 is a transcriptional coactivator protein that plays a crucial role in the regulation of gene expression. It is a member of the TFIID complex, which is responsible for the recruitment of RNA polymerase II to promoters and the initiation of transcription. TAF13 has been shown to interact with various transcription factors, including p53, NF-κB, and STAT3, and to regulate the expression of a wide range of genes involved in various cellular processes, including cell growth, differentiation, and apoptosis. Dysregulation of TAF13 has been implicated in various diseases, including cancer, neurodegenerative disorders, and metabolic disorders. As a transcriptional coactivator, TAF13 plays a critical role in maintaining cellular homeostasis and is essential for normal cellular function. In addition, TAF13 has been shown to have a role in the regulation of epigenetic marks, such as histone modifications, and to interact with chromatin-modifying enzymes, suggesting that it may play a role in the regulation of chromatin structure and gene expression. Overall, TAF13 is an important transcriptional coactivator that plays a critical role in the regulation of gene expression and cellular function. Its dysregulation has been implicated in various diseases, and further research is needed to fully understand its role in normal and disease states.'\n"
     ]
    }
   ],
   "source": [
    "input= 'You are a Scientist. Tell me about TAF13.'\n",
    "actual_output = llama.generate(input, schema)\n",
    "print(actual_output)"
   ]
  },
  {
   "cell_type": "code",
   "execution_count": 16,
   "metadata": {},
   "outputs": [
    {
     "data": {
      "text/html": [
       "<pre style=\"white-space:pre;overflow-x:auto;line-height:normal;font-family:Menlo,'DejaVu Sans Mono',consolas,'Courier New',monospace\">✨ You're running DeepEval's latest <span style=\"color: #6a00ff; text-decoration-color: #6a00ff\">Hallucination Metric</span>! <span style=\"color: #374151; text-decoration-color: #374151; font-weight: bold\">(</span><span style=\"color: #374151; text-decoration-color: #374151\">using Meta Llama </span><span style=\"color: #374151; text-decoration-color: #374151; font-weight: bold\">3</span><span style=\"color: #374151; text-decoration-color: #374151\"> 8B Instruct, </span><span style=\"color: #374151; text-decoration-color: #374151\">strict</span><span style=\"color: #374151; text-decoration-color: #374151\">=</span><span style=\"color: #374151; text-decoration-color: #374151; font-style: italic\">False</span><span style=\"color: #374151; text-decoration-color: #374151\">, </span>\n",
       "<span style=\"color: #374151; text-decoration-color: #374151\">async_mode</span><span style=\"color: #374151; text-decoration-color: #374151\">=</span><span style=\"color: #374151; text-decoration-color: #374151; font-style: italic\">True</span><span style=\"color: #374151; text-decoration-color: #374151; font-weight: bold\">)</span><span style=\"color: #374151; text-decoration-color: #374151\">...</span>\n",
       "</pre>\n"
      ],
      "text/plain": [
       "✨ You're running DeepEval's latest \u001b[38;2;106;0;255mHallucination Metric\u001b[0m! \u001b[1;38;2;55;65;81m(\u001b[0m\u001b[38;2;55;65;81musing Meta Llama \u001b[0m\u001b[1;38;2;55;65;81m3\u001b[0m\u001b[38;2;55;65;81m 8B Instruct, \u001b[0m\u001b[38;2;55;65;81mstrict\u001b[0m\u001b[38;2;55;65;81m=\u001b[0m\u001b[3;38;2;55;65;81mFalse\u001b[0m\u001b[38;2;55;65;81m, \u001b[0m\n",
       "\u001b[38;2;55;65;81masync_mode\u001b[0m\u001b[38;2;55;65;81m=\u001b[0m\u001b[3;38;2;55;65;81mTrue\u001b[0m\u001b[1;38;2;55;65;81m)\u001b[0m\u001b[38;2;55;65;81m...\u001b[0m\n"
      ]
     },
     "metadata": {},
     "output_type": "display_data"
    },
    {
     "data": {
      "text/html": [
       "<pre style=\"white-space:pre;overflow-x:auto;line-height:normal;font-family:Menlo,'DejaVu Sans Mono',consolas,'Courier New',monospace\">✨ You're running DeepEval's latest <span style=\"color: #6a00ff; text-decoration-color: #6a00ff\">Faithfulness Metric</span>! <span style=\"color: #374151; text-decoration-color: #374151; font-weight: bold\">(</span><span style=\"color: #374151; text-decoration-color: #374151\">using Meta Llama </span><span style=\"color: #374151; text-decoration-color: #374151; font-weight: bold\">3</span><span style=\"color: #374151; text-decoration-color: #374151\"> 8B Instruct, </span><span style=\"color: #374151; text-decoration-color: #374151\">strict</span><span style=\"color: #374151; text-decoration-color: #374151\">=</span><span style=\"color: #374151; text-decoration-color: #374151; font-style: italic\">False</span><span style=\"color: #374151; text-decoration-color: #374151\">, </span>\n",
       "<span style=\"color: #374151; text-decoration-color: #374151\">async_mode</span><span style=\"color: #374151; text-decoration-color: #374151\">=</span><span style=\"color: #374151; text-decoration-color: #374151; font-style: italic\">True</span><span style=\"color: #374151; text-decoration-color: #374151; font-weight: bold\">)</span><span style=\"color: #374151; text-decoration-color: #374151\">...</span>\n",
       "</pre>\n"
      ],
      "text/plain": [
       "✨ You're running DeepEval's latest \u001b[38;2;106;0;255mFaithfulness Metric\u001b[0m! \u001b[1;38;2;55;65;81m(\u001b[0m\u001b[38;2;55;65;81musing Meta Llama \u001b[0m\u001b[1;38;2;55;65;81m3\u001b[0m\u001b[38;2;55;65;81m 8B Instruct, \u001b[0m\u001b[38;2;55;65;81mstrict\u001b[0m\u001b[38;2;55;65;81m=\u001b[0m\u001b[3;38;2;55;65;81mFalse\u001b[0m\u001b[38;2;55;65;81m, \u001b[0m\n",
       "\u001b[38;2;55;65;81masync_mode\u001b[0m\u001b[38;2;55;65;81m=\u001b[0m\u001b[3;38;2;55;65;81mTrue\u001b[0m\u001b[1;38;2;55;65;81m)\u001b[0m\u001b[38;2;55;65;81m...\u001b[0m\n"
      ]
     },
     "metadata": {},
     "output_type": "display_data"
    },
    {
     "data": {
      "text/html": [
       "<pre style=\"white-space:pre;overflow-x:auto;line-height:normal;font-family:Menlo,'DejaVu Sans Mono',consolas,'Courier New',monospace\">✨ You're running DeepEval's latest <span style=\"color: #6a00ff; text-decoration-color: #6a00ff\">Bias Metric</span>! <span style=\"color: #374151; text-decoration-color: #374151; font-weight: bold\">(</span><span style=\"color: #374151; text-decoration-color: #374151\">using Meta Llama </span><span style=\"color: #374151; text-decoration-color: #374151; font-weight: bold\">3</span><span style=\"color: #374151; text-decoration-color: #374151\"> 8B Instruct, </span><span style=\"color: #374151; text-decoration-color: #374151\">strict</span><span style=\"color: #374151; text-decoration-color: #374151\">=</span><span style=\"color: #374151; text-decoration-color: #374151; font-style: italic\">False</span><span style=\"color: #374151; text-decoration-color: #374151\">, </span><span style=\"color: #374151; text-decoration-color: #374151\">async_mode</span><span style=\"color: #374151; text-decoration-color: #374151\">=</span><span style=\"color: #374151; text-decoration-color: #374151; font-style: italic\">True</span><span style=\"color: #374151; text-decoration-color: #374151; font-weight: bold\">)</span><span style=\"color: #374151; text-decoration-color: #374151\">...</span>\n",
       "</pre>\n"
      ],
      "text/plain": [
       "✨ You're running DeepEval's latest \u001b[38;2;106;0;255mBias Metric\u001b[0m! \u001b[1;38;2;55;65;81m(\u001b[0m\u001b[38;2;55;65;81musing Meta Llama \u001b[0m\u001b[1;38;2;55;65;81m3\u001b[0m\u001b[38;2;55;65;81m 8B Instruct, \u001b[0m\u001b[38;2;55;65;81mstrict\u001b[0m\u001b[38;2;55;65;81m=\u001b[0m\u001b[3;38;2;55;65;81mFalse\u001b[0m\u001b[38;2;55;65;81m, \u001b[0m\u001b[38;2;55;65;81masync_mode\u001b[0m\u001b[38;2;55;65;81m=\u001b[0m\u001b[3;38;2;55;65;81mTrue\u001b[0m\u001b[1;38;2;55;65;81m)\u001b[0m\u001b[38;2;55;65;81m...\u001b[0m\n"
      ]
     },
     "metadata": {},
     "output_type": "display_data"
    },
    {
     "name": "stdout",
     "output_type": "stream",
     "text": [
      "Event loop is already running. Applying nest_asyncio patch to allow async execution...\n"
     ]
    },
    {
     "name": "stderr",
     "output_type": "stream",
     "text": [
      "Evaluating 1 test case(s) in parallel: |██████████|100% (1/1) [Time Taken: 01:22, 82.14s/test case]"
     ]
    },
    {
     "name": "stdout",
     "output_type": "stream",
     "text": [
      "\n",
      "======================================================================\n",
      "\n",
      "Metrics Summary\n",
      "\n",
      "  - ✅ Hallucination (score: 0.0, threshold: 0.5, strict: False, evaluation model: Meta Llama 3 8B Instruct, reason: The score is 0.00 because the actual output agrees with the provided context in all instances, indicating that the output is accurate and reliable, and there is no hallucination present in the output. This is reflected in the hallucination score of 0.00, which indicates that the output is highly accurate and reliable, with no hallucination present. The factual alignments and contradictions provided further support this conclusion, as they demonstrate that the actual output aligns with the provided context in all instances, and there are no contradictions or hallucinations present in the output. Therefore, the hallucination score of 0.00 is a reflection of the accuracy and reliability of the output, and the lack of hallucination present in the output., error: None)\n",
      "  - ✅ Faithfulness (score: 1.0, threshold: 0.5, strict: False, evaluation model: Meta Llama 3 8B Instruct, reason: The score is 1.00 because there are no contradictions, and the actual output is a perfect match with the retrieval context. It's a beautiful day for AI models!, error: None)\n",
      "  - ✅ Bias (score: 0.0, threshold: 0.5, strict: False, evaluation model: Meta Llama 3 8B Instruct, reason: The score is 0.00 because the actual output is completely unbiased and accurate, with no signs of any form of bias present. The output is free from any kind of prejudice, and the results are reliable and trustworthy. The absence of any biased reasons is a testament to the quality of the output. It's a great achievement to have produced such an unbiased output, and it's a credit to the team responsible for generating it., error: None)\n",
      "\n",
      "For test case:\n",
      "\n",
      "  - input: You are a Scientist. Tell me about TAF13.\n",
      "  - actual output: TAF13 is a transcriptional coactivator protein that plays a crucial role in the regulation of gene expression. It is a member of the TFIID complex, which is responsible for the recruitment of RNA polymerase II to promoters and the initiation of transcription. TAF13 has been shown to interact with various transcription factors, including p53, NF-κB, and STAT3, and to regulate the expression of a wide range of genes involved in various cellular processes, including cell growth, differentiation, and apoptosis. Dysregulation of TAF13 has been implicated in various diseases, including cancer, neurodegenerative disorders, and metabolic disorders. As a transcriptional coactivator, TAF13 plays a critical role in maintaining cellular homeostasis and is essential for normal cellular function. In addition, TAF13 has been shown to have a role in the regulation of epigenetic marks, such as histone modifications, and to interact with chromatin-modifying enzymes, suggesting that it may play a role in the regulation of chromatin structure and gene expression. Overall, TAF13 is an important transcriptional coactivator that plays a critical role in the regulation of gene expression and cellular function. Its dysregulation has been implicated in various diseases, and further research is needed to fully understand its role in normal and disease states.\n",
      "  - expected output: None\n",
      "  - context: ['TAF13, or TATA-Box Binding Protein Associated Factor 13, is a protein that is encoded by the TAF13 gene in humans.', 'It is a subunit of the transcription initiation factor TFIID', 'TAF13 is involved in RNA polymerase II transcription initiation and promoter clearance: TAF13 is part of the TFIID complex,which plays a major role in the initiation of transcription that is dependent on RNA polymerase II.', 'TAF13 is involved in gene expression.', 'TAF13 is involved in DNA-binding transcription factor activity.']\n",
      "  - retrieval context: ['transcription initiation factor']\n",
      "\n",
      "======================================================================\n",
      "\n",
      "Overall Metric Pass Rates\n",
      "\n",
      "Hallucination: 100.00% pass rate\n",
      "Faithfulness: 100.00% pass rate\n",
      "Bias: 100.00% pass rate\n",
      "\n",
      "======================================================================\n",
      "\n"
     ]
    },
    {
     "name": "stderr",
     "output_type": "stream",
     "text": [
      "\n"
     ]
    },
    {
     "data": {
      "text/html": [
       "<pre style=\"white-space:pre;overflow-x:auto;line-height:normal;font-family:Menlo,'DejaVu Sans Mono',consolas,'Courier New',monospace\"><span style=\"color: #05f58d; text-decoration-color: #05f58d\">✓</span> Tests finished 🎉! Run <span style=\"color: #008000; text-decoration-color: #008000\">'deepeval login'</span> to view evaluation results on Confident AI. \n",
       "‼️  NOTE: You can also run evaluations on ALL of deepeval's metrics directly on Confident AI instead.\n",
       "</pre>\n"
      ],
      "text/plain": [
       "\u001b[38;2;5;245;141m✓\u001b[0m Tests finished 🎉! Run \u001b[32m'deepeval login'\u001b[0m to view evaluation results on Confident AI. \n",
       "‼️  NOTE: You can also run evaluations on ALL of deepeval's metrics directly on Confident AI instead.\n"
      ]
     },
     "metadata": {},
     "output_type": "display_data"
    },
    {
     "data": {
      "text/plain": [
       "[TestResult(success=True, metrics_data=[MetricData(name='Hallucination', threshold=0.5, success=True, score=0.0, reason='The score is 0.00 because the actual output agrees with the provided context in all instances, indicating that the output is accurate and reliable, and there is no hallucination present in the output. This is reflected in the hallucination score of 0.00, which indicates that the output is highly accurate and reliable, with no hallucination present. The factual alignments and contradictions provided further support this conclusion, as they demonstrate that the actual output aligns with the provided context in all instances, and there are no contradictions or hallucinations present in the output. Therefore, the hallucination score of 0.00 is a reflection of the accuracy and reliability of the output, and the lack of hallucination present in the output.', strict_mode=False, evaluation_model='Meta Llama 3 8B Instruct', error=None, evaluation_cost=None, verbose_logs='Verdicts:\\n[\\n    {\\n        \"verdict\": \"yes\",\\n        \"reason\": \"The actual output agrees with the provided context which states that TAF13 is a protein that is encoded by the TAF13 gene in humans and is involved in RNA polymerase II transcription initiation and promoter clearance\"\\n    },\\n    {\\n        \"verdict\": \"yes\",\\n        \"reason\": \"The actual output agrees with the provided context which states that TAF13 is part of the TFIID complex, which plays a major role in the initiation of transcription that is dependent on RNA polymerase II\"\\n    },\\n    {\\n        \"verdict\": \"yes\",\\n        \"reason\": \"The actual output agrees with the provided context which states that TAF13 is involved in gene expression and DNA-binding transcription factor activity\"\\n    },\\n    {\\n        \"verdict\": \"yes\",\\n        \"reason\": \"The actual output agrees with the provided context which states that TAF13 is a transcriptional coactivator protein that plays a crucial role in the regulation of gene expression\"\\n    },\\n    {\\n        \"verdict\": \"yes\",\\n        \"reason\": \"The actual output agrees with the provided context which states that TAF13 has been implicated in various diseases, including cancer, neurodegenerative disorders, and metabolic disorders\"\\n    }\\n]'), MetricData(name='Faithfulness', threshold=0.5, success=True, score=1.0, reason=\"The score is 1.00 because there are no contradictions, and the actual output is a perfect match with the retrieval context. It's a beautiful day for AI models!\", strict_mode=False, evaluation_model='Meta Llama 3 8B Instruct', error=None, evaluation_cost=None, verbose_logs='Truths:\\n[] \\n \\nClaims:\\n[] \\n \\nVerdicts:\\n[]'), MetricData(name='Bias', threshold=0.5, success=True, score=0.0, reason=\"The score is 0.00 because the actual output is completely unbiased and accurate, with no signs of any form of bias present. The output is free from any kind of prejudice, and the results are reliable and trustworthy. The absence of any biased reasons is a testament to the quality of the output. It's a great achievement to have produced such an unbiased output, and it's a credit to the team responsible for generating it.\", strict_mode=False, evaluation_model='Meta Llama 3 8B Instruct', error=None, evaluation_cost=None, verbose_logs='Opinions:\\n[] \\n \\nVerdicts:\\n[]')], conversational=False, input='You are a Scientist. Tell me about TAF13.', actual_output='TAF13 is a transcriptional coactivator protein that plays a crucial role in the regulation of gene expression. It is a member of the TFIID complex, which is responsible for the recruitment of RNA polymerase II to promoters and the initiation of transcription. TAF13 has been shown to interact with various transcription factors, including p53, NF-κB, and STAT3, and to regulate the expression of a wide range of genes involved in various cellular processes, including cell growth, differentiation, and apoptosis. Dysregulation of TAF13 has been implicated in various diseases, including cancer, neurodegenerative disorders, and metabolic disorders. As a transcriptional coactivator, TAF13 plays a critical role in maintaining cellular homeostasis and is essential for normal cellular function. In addition, TAF13 has been shown to have a role in the regulation of epigenetic marks, such as histone modifications, and to interact with chromatin-modifying enzymes, suggesting that it may play a role in the regulation of chromatin structure and gene expression. Overall, TAF13 is an important transcriptional coactivator that plays a critical role in the regulation of gene expression and cellular function. Its dysregulation has been implicated in various diseases, and further research is needed to fully understand its role in normal and disease states.', expected_output=None, context=['TAF13, or TATA-Box Binding Protein Associated Factor 13, is a protein that is encoded by the TAF13 gene in humans.', 'It is a subunit of the transcription initiation factor TFIID', 'TAF13 is involved in RNA polymerase II transcription initiation and promoter clearance: TAF13 is part of the TFIID complex,which plays a major role in the initiation of transcription that is dependent on RNA polymerase II.', 'TAF13 is involved in gene expression.', 'TAF13 is involved in DNA-binding transcription factor activity.'], retrieval_context=['transcription initiation factor'])]"
      ]
     },
     "execution_count": 16,
     "metadata": {},
     "output_type": "execute_result"
    }
   ],
   "source": [
    "# define context\n",
    "context = [\"TAF13, or TATA-Box Binding Protein Associated Factor 13, is a protein that is encoded by the TAF13 gene in humans.\",\n",
    "           \"It is a subunit of the transcription initiation factor TFIID\",\n",
    "           \"TAF13 is involved in RNA polymerase II transcription initiation and promoter clearance: TAF13 is part of the TFIID complex,which plays a major role in the initiation of transcription that is dependent on RNA polymerase II.\",\n",
    "           \"TAF13 is involved in gene expression.\",\n",
    "           \"TAF13 is involved in DNA-binding transcription factor activity.\"]\n",
    "\n",
    "test_case = LLMTestCase(\n",
    "    input=input,\n",
    "    actual_output= actual_output.answer,  # EXTRACT STRING WITH .answer\n",
    "    context=context,\n",
    "    retrieval_context=[\"transcription initiation factor\"],\n",
    ")\n",
    "\n",
    "hallucination_metric = HallucinationMetric(model=llama)\n",
    "faithfulness_metric = FaithfulnessMetric(model=llama)\n",
    "bias_metric = BiasMetric(model=llama)\n",
    "\n",
    "# or evaluate test cases in bulk\n",
    "evaluate([test_case], [hallucination_metric, faithfulness_metric, bias_metric])"
   ]
  }
 ],
 "metadata": {
  "kernelspec": {
   "display_name": ".venv",
   "language": "python",
   "name": "python3"
  },
  "language_info": {
   "codemirror_mode": {
    "name": "ipython",
    "version": 3
   },
   "file_extension": ".py",
   "mimetype": "text/x-python",
   "name": "python",
   "nbconvert_exporter": "python",
   "pygments_lexer": "ipython3",
   "version": "3.9.5"
  }
 },
 "nbformat": 4,
 "nbformat_minor": 2
}
