{
 "cells": [
  {
   "cell_type": "code",
   "execution_count": 1,
   "metadata": {},
   "outputs": [
    {
     "name": "stdout",
     "output_type": "stream",
     "text": [
      "[2024-06-09 19:12:25,282] [INFO] [real_accelerator.py:203:get_accelerator] Setting ds_accelerator to cuda (auto detect)\n"
     ]
    },
    {
     "name": "stderr",
     "output_type": "stream",
     "text": [
      "/usr/bin/ld: cannot find -laio\n",
      "collect2: error: ld returned 1 exit status\n"
     ]
    },
    {
     "name": "stdout",
     "output_type": "stream",
     "text": [
      "\u001b[93m [WARNING] \u001b[0m async_io requires the dev libaio .so object and headers but these were not found.\n",
      "\u001b[93m [WARNING] \u001b[0m async_io: please install the libaio-dev package with apt\n",
      "\u001b[93m [WARNING] \u001b[0m If libaio is already installed (perhaps from source), try setting the CFLAGS and LDFLAGS environment variables to where it can be found.\n",
      "\u001b[93m [WARNING] \u001b[0m Please specify the CUTLASS repo directory as environment variable $CUTLASS_PATH\n",
      "\u001b[93m [WARNING] \u001b[0m sparse_attn requires a torch version >= 1.5 and < 2.0 but detected 2.3\n",
      "\u001b[93m [WARNING] \u001b[0m using untested triton version (2.3.0), only 1.0.0 is known to be compatible\n",
      "Device set to cuda:1\n"
     ]
    }
   ],
   "source": [
    "# import necessary packages\n",
    "import sys, os\n",
    "import torch \n",
    "import numpy as np\n",
    "import evaluate\n",
    "import accelerate\n",
    "from accelerate import Accelerator\n",
    "from peft import get_peft_config, get_peft_model, LoraConfig, TaskType\n",
    "from trl import SFTTrainer, setup_chat_format\n",
    "from transformers import (pipeline,\n",
    "                          AutoTokenizer,\n",
    "                          AutoModelForCausalLM,\n",
    "                          DataCollatorForLanguageModeling,\n",
    "                          DataCollatorWithPadding,\n",
    "                          get_scheduler)\n",
    "from datasets import load_dataset\n",
    "from torch.utils.data import DataLoader\n",
    "from torch.optim import AdamW\n",
    "from tqdm.auto import tqdm\n",
    "from IPython.display import clear_output\n",
    "\n",
    "sys.path.append('../')\n",
    "\n",
    "# custom imports\n",
    "from utils.GetLowestGPU import GetLowestGPU\n",
    "\n",
    "device = GetLowestGPU()"
   ]
  },
  {
   "cell_type": "code",
   "execution_count": 2,
   "metadata": {},
   "outputs": [],
   "source": [
    "os.environ[\"TOKENIZERS_PARALLELISM\"] = \"false\""
   ]
  },
  {
   "cell_type": "markdown",
   "metadata": {},
   "source": [
    "# Instantiate Model and Dataset"
   ]
  },
  {
   "cell_type": "code",
   "execution_count": 3,
   "metadata": {},
   "outputs": [
    {
     "name": "stderr",
     "output_type": "stream",
     "text": [
      "Detected kernel version 5.4.0, which is below the recommended minimum of 5.5.0; this can cause the process to hang. It is recommended to upgrade the kernel to the minimum version or higher.\n"
     ]
    },
    {
     "data": {
      "application/vnd.jupyter.widget-view+json": {
       "model_id": "6d2424df4d23425e85242725c0e44a79",
       "version_major": 2,
       "version_minor": 0
      },
      "text/plain": [
       "Loading checkpoint shards:   0%|          | 0/4 [00:00<?, ?it/s]"
      ]
     },
     "metadata": {},
     "output_type": "display_data"
    },
    {
     "name": "stderr",
     "output_type": "stream",
     "text": [
      "Special tokens have been added in the vocabulary, make sure the associated word embeddings are fine-tuned or trained.\n"
     ]
    },
    {
     "name": "stdout",
     "output_type": "stream",
     "text": [
      "trainable params: 3,407,872 || all params: 8,033,669,120 || trainable%: 0.0424\n"
     ]
    }
   ],
   "source": [
    "# options\n",
    "model_path = \"meta-llama/Meta-Llama-3-8B\"\n",
    "dataset_path = \"allenai/peS2o\"\n",
    "\n",
    "peft_config = LoraConfig(\n",
    "    task_type=TaskType.CAUSAL_LM, inference_mode=False, r=8, lora_alpha=32, lora_dropout=0.1\n",
    ")\n",
    "\n",
    "accelerator = Accelerator()\n",
    "\n",
    "# load tokenizer and model\n",
    "pipeline = pipeline('text-generation', \n",
    "                    model=model_path,\n",
    "                    model_kwargs={'torch_dtype': torch.bfloat16},\n",
    "                    device_map = 'auto',\n",
    "                    \n",
    "                    )\n",
    "\n",
    "pipeline.model = get_peft_model(pipeline.model, peft_config)\n",
    "pipeline.tokenizer.pad_token = pipeline.tokenizer.eos_token\n",
    "pipeline.model.generation_config.pad_token_id = pipeline.tokenizer.eos_token_id\n",
    "\n",
    "pipeline.model.print_trainable_parameters()"
   ]
  },
  {
   "cell_type": "code",
   "execution_count": 4,
   "metadata": {},
   "outputs": [
    {
     "data": {
      "text/plain": [
       "IterableDatasetDict({\n",
       "    train: IterableDataset({\n",
       "        features: ['added', 'created', 'id', 'source', 'text', 'version'],\n",
       "        n_shards: 20\n",
       "    })\n",
       "    validation: IterableDataset({\n",
       "        features: ['added', 'created', 'id', 'source', 'text', 'version'],\n",
       "        n_shards: 2\n",
       "    })\n",
       "})"
      ]
     },
     "execution_count": 4,
     "metadata": {},
     "output_type": "execute_result"
    }
   ],
   "source": [
    "# load dataset\n",
    "raw_dataset = load_dataset(dataset_path, \"v2\", streaming=True, trust_remote_code=True)\n",
    "\n",
    "# check format of data\n",
    "raw_dataset"
   ]
  },
  {
   "cell_type": "markdown",
   "metadata": {},
   "source": [
    "# Preprocessing"
   ]
  },
  {
   "cell_type": "code",
   "execution_count": 5,
   "metadata": {},
   "outputs": [],
   "source": [
    "# define functions\n",
    "def preprocess_data(examples):\n",
    "    tokenized_data = pipeline.tokenizer(text=examples['text'],\n",
    "                               padding='max_length', \n",
    "                               truncation=True, \n",
    "                               max_length=512)\n",
    "    \n",
    "    labels = tokenized_data['input_ids'].copy()\n",
    "\n",
    "    for i in range(len(labels)):\n",
    "        if labels[i][-1] != pipeline.tokenizer.pad_token_id:\n",
    "            labels[i] = labels[i][1:] + [pipeline.tokenizer.pad_token_id]\n",
    "        else:\n",
    "            labels[i] = labels[i][1:] + [-100]\n",
    "\n",
    "    labels = [[-100 if x == pipeline.tokenizer.pad_token_id else x for x in y] for y in labels]\n",
    "    tokenized_data['labels'] = labels\n",
    "    \n",
    "    return tokenized_data"
   ]
  },
  {
   "cell_type": "code",
   "execution_count": 6,
   "metadata": {},
   "outputs": [
    {
     "data": {
      "text/plain": [
       "IterableDatasetDict({\n",
       "    train: IterableDataset({\n",
       "        features: Unknown,\n",
       "        n_shards: 20\n",
       "    })\n",
       "    validation: IterableDataset({\n",
       "        features: Unknown,\n",
       "        n_shards: 2\n",
       "    })\n",
       "})"
      ]
     },
     "execution_count": 6,
     "metadata": {},
     "output_type": "execute_result"
    }
   ],
   "source": [
    "# add special tokens to tokenizer\n",
    "pipeline.tokenizer.pad_token = pipeline.tokenizer.eos_token\n",
    "pipeline.model.resize_token_embeddings(len(pipeline.tokenizer))\n",
    "\n",
    "tokenized_dataset = raw_dataset.map(preprocess_data,\n",
    "                                    batched=True,\n",
    "                                    remove_columns=raw_dataset['train'].column_names,)\n",
    "tokenized_dataset.with_format(\"torch\")\n",
    "\n",
    "# check tokenized dataset output\n",
    "tokenized_dataset"
   ]
  },
  {
   "cell_type": "markdown",
   "metadata": {},
   "source": [
    "# Create Dataloaders"
   ]
  },
  {
   "cell_type": "code",
   "execution_count": 7,
   "metadata": {},
   "outputs": [],
   "source": [
    "# instantiate data collator\n",
    "data_collator = DataCollatorWithPadding(tokenizer=pipeline.tokenizer)\n",
    "\n",
    "train_dataloader = DataLoader(tokenized_dataset['train'],\n",
    "                              batch_size=8, \n",
    "                              collate_fn=data_collator,\n",
    "                              num_workers=20)\n",
    "\n",
    "val_dataloader = DataLoader(tokenized_dataset['validation'],\n",
    "                            batch_size=8,\n",
    "                            collate_fn=data_collator,\n",
    "                            num_workers=2)"
   ]
  },
  {
   "cell_type": "code",
   "execution_count": 8,
   "metadata": {},
   "outputs": [
    {
     "data": {
      "text/plain": [
       "{'input_ids': torch.Size([8, 512]),\n",
       " 'attention_mask': torch.Size([8, 512]),\n",
       " 'labels': torch.Size([8, 512])}"
      ]
     },
     "execution_count": 8,
     "metadata": {},
     "output_type": "execute_result"
    }
   ],
   "source": [
    "# inspect sample batch\n",
    "batch = next(iter(train_dataloader))\n",
    "{k: v.shape for k, v in batch.items()}"
   ]
  },
  {
   "cell_type": "code",
   "execution_count": 9,
   "metadata": {},
   "outputs": [
    {
     "name": "stdout",
     "output_type": "stream",
     "text": [
      "tensor(11.4993, grad_fn=<ToCopyBackward0>) torch.Size([8, 512, 128256])\n"
     ]
    }
   ],
   "source": [
    "outputs = pipeline.model(**batch)\n",
    "print(outputs.loss, outputs.logits.shape)"
   ]
  },
  {
   "cell_type": "markdown",
   "metadata": {},
   "source": [
    "# Training"
   ]
  },
  {
   "cell_type": "code",
   "execution_count": 10,
   "metadata": {},
   "outputs": [
    {
     "name": "stdout",
     "output_type": "stream",
     "text": [
      "[[{'generated_text': 'network biology is the study of the interactions of the elements of biological systems, such as genes, proteins and metabolic pathways. It studies biological function in terms of the network rather than individual parts. The goal of the field is to understand the structure and dynamics of the networks controlling cell function and to describe the mechanisms that govern their activity. In practice, network biology is the application of the tools and approaches of network theory to the study of biological systems. The field is also called systems biology, but the latter term is sometimes used to refer specifically to the study of biochemical reactions and the flow of information through a cell. The term network biology was introduced by Marc Vidal in 2004. In 2005, Vidal and Albert-László Barabási co-edited a special issue of Nature Reviews Genetics on network biology. In 2006, Barabási and Tanya Berger-Wolf co-edited a special issue of the Journal of Computational Biology on network biology. The field is closely related to the study of complex systems.\\nThe human body is a complex system of many interacting subsystems of lineages of cells. The human body is the structure of a human being. It is composed of many different types of cells that together create tissues and subsequently organ systems. They'}]]\n"
     ]
    }
   ],
   "source": [
    "# run a test prediction\n",
    "messages = [\"network biology is\"]\n",
    "\n",
    "terminators = [\n",
    "    pipeline.tokenizer.eos_token_id,\n",
    "    pipeline.tokenizer.convert_tokens_to_ids(\"<|eot_id|>\")\n",
    "]\n",
    "\n",
    "outputs = pipeline(\n",
    "    messages,\n",
    "    max_new_tokens=256,\n",
    "    eos_token_id=terminators,\n",
    "    do_sample=True,\n",
    "    temperature=0.6,\n",
    "    top_p=0.9,\n",
    ")\n",
    "print(outputs)"
   ]
  },
  {
   "cell_type": "code",
   "execution_count": 11,
   "metadata": {},
   "outputs": [],
   "source": [
    "# init optimizer\n",
    "optimizer = AdamW(pipeline.model.parameters(), lr=1e-7)\n",
    "\n",
    "# init scheduler\n",
    "lr_scheduler = get_scheduler(\n",
    "    \"linear\",\n",
    "    optimizer=optimizer,\n",
    "    num_warmup_steps=1000,\n",
    "    num_training_steps=30000\n",
    ")\n",
    "\n",
    "pipeline.model, optimizer, train_dataloader, lr_scheduler = accelerator.prepare(\n",
    "    pipeline.model, optimizer, train_dataloader, lr_scheduler)"
   ]
  },
  {
   "cell_type": "code",
   "execution_count": 12,
   "metadata": {},
   "outputs": [
    {
     "name": "stdout",
     "output_type": "stream",
     "text": [
      "=====================\n",
      "Epoch 1\n",
      "=====================\n",
      "Training...\n",
      "batch loss: 11.4993\r"
     ]
    },
    {
     "name": "stderr",
     "output_type": "stream",
     "text": [
      "/mnt/DGX01/Personal/krusepi/.venv/lib/python3.8/site-packages/torch/autograd/graph.py:744: UserWarning: Attempting to run cuBLAS, but there was no current CUDA context! Attempting to set the primary context... (Triggered internally at ../aten/src/ATen/cuda/CublasHandlePool.cpp:135.)\n",
      "  return Variable._execution_engine.run_backward(  # Calls into the C++ engine to run the backward pass\n"
     ]
    },
    {
     "name": "stdout",
     "output_type": "stream",
     "text": [
      "Processed 250 batches; Printing example response...\n",
      "[[{'generated_text': 'Network biology is an emerging interdisciplinary field that studies biological systems using a network perspective. It is an integrative approach that combines experimental, computational and theoretical methods to understand the interactions between molecules, cells and tissues in health and disease. It is a rapidly developing field, with new methods and applications being developed at a rapid pace.\\nThe main goal of this course is to provide an introduction to the field of network biology, with a focus on methods and applications. The course will cover a wide range of topics,'}]]\n",
      "Processed 500 batches; Printing example response...\n",
      "[[{'generated_text': 'Network biology is a field of science that studies biological systems using a combination of network theory and biological data. The systems studied include, but are not limited to, metabolic networks, gene networks, cellular networks, and neural networks. Network biology is the study of biological systems using a combination of network theory and biological data. The systems studied include, but are not limited to, metabolic networks, gene networks, cellular networks, and neural networks. Network biology is a relatively new field that has only recently begun to'}]]\n",
      "Processed 750 batches; Printing example response...\n",
      "[[{'generated_text': 'Network biology is the study of complex biological systems using a network-based approach. Biological networks are often modeled as graphs, in which the nodes represent the biological entities (e.g. genes, proteins, or metabolites) and the edges represent interactions between them (e.g. protein-protein interactions or metabolic reactions). Network biology can be used to identify key nodes in the network, which may be important for the function of the network, and to identify modules of the network, which may be related to specific'}]]\n",
      "Processed 1000 batches; Printing example response...\n",
      "[[{'generated_text': 'Network biology is the study of biological systems using methods of network theory. It is a rapidly growing research area with links to molecular biology, systems biology, bioinformatics, genomics, proteomics, and other fields. Biological systems are commonly represented as networks that model interactions between their elements. Network biology methods are used to analyze and model the interactions of genes, proteins, and other biological entities. These methods can be used to identify important genes, proteins, and other biological entities, as well as to understand'}]]\n",
      "Processed 1250 batches; Printing example response...\n",
      "[[{'generated_text': 'Network biology is the study of biological networks, that is, networks of interacting molecules within the cell. The main focus of this chapter is on the analysis of gene regulatory networks, which are networks of interactions between transcription factors and their target genes. The chapter first introduces the concept of biological networks and then describes the main types of networks and their properties. It then discusses the main computational methods for analyzing gene regulatory networks, including methods for network reconstruction, network inference, and network analysis. The chapter also describes some'}]]\n",
      "Processed 1500 batches; Printing example response...\n",
      "[[{'generated_text': 'Network biology is the study of complex biological systems using methods from applied mathematics, computer science, and engineering to develop quantitative models, subject to experimental validation, of the dynamics of such systems. It is the application of graph theory to the analysis of molecular networks. The networks can be constructed from data obtained from a variety of sources including high throughput experiments such as DNA microarrays, proteomics, and metabolomics. These networks can be used to investigate the structure and function of biological systems, to identify disease-ca'}]]\n",
      "Processed 1750 batches; Printing example response...\n",
      "[[{'generated_text': 'Network biology is an interdisciplinary field that studies biological networks. The field emerged from the realization that many biological systems can be modeled as networks of interacting entities. For example, the proteins in a cell form a network of interacting proteins, the genes in a genome form a network of interacting genes, and the neurons in the brain form a network of interacting neurons. These networks can be represented as graphs, with nodes representing the entities and edges representing the interactions between them. The field of network biology seeks to understand the'}]]\n",
      "Processed 2000 batches; Printing example response...\n",
      "[[{'generated_text': 'Network biology is a rapidly developing field with a wide range of applications. However, the current state of the art is still limited in its ability to handle large-scale biological networks. In this paper, we present a novel approach for large-scale biological network analysis based on a hybrid of deep learning and graph theory. The proposed approach is able to handle large-scale biological networks with millions of nodes and edges. We evaluate the proposed approach on a variety of biological networks and show that it outperforms the state-of'}]]\n",
      "Processed 2250 batches; Printing example response...\n",
      "[[{'generated_text': 'Network biology is a field of science that focuses on understanding how biological systems function as a whole, and how complex interactions between genes, proteins, and other molecules give rise to the diverse behaviors of living organisms. It is a rapidly growing field that combines elements of computer science, mathematics, and biology to create a comprehensive understanding of how biological systems function. In this article, we will discuss the basics of network biology, including its history, key concepts, and applications.\\nThe History of Network Biology\\nThe field'}]]\n",
      "batch loss: 11.2773\r"
     ]
    },
    {
     "name": "stderr",
     "output_type": "stream",
     "text": [
      "You seem to be using the pipelines sequentially on GPU. In order to maximize efficiency please use a dataset\n"
     ]
    },
    {
     "name": "stdout",
     "output_type": "stream",
     "text": [
      "Processed 2500 batches; Printing example response...\n",
      "[[{'generated_text': 'Network biology is a field of science that deals with the structure and function of biological networks. The most common biological networks are gene regulatory networks, protein interaction networks, metabolic networks, and signalling networks. A biological network can be represented as a graph where the nodes represent the network components (e.g. genes, proteins, metabolites) and the edges represent the interactions between them (e.g. regulatory interactions, physical interactions, metabolic reactions). Biological networks can be used to study a wide range of biological processes'}]]\n",
      "Processed 2750 batches; Printing example response...\n",
      "[[{'generated_text': 'Network biology is the study of biological systems in which the behavior of the whole system is not easily inferred from the behavior of its parts. The field is often referred to as biological network science, and the systems studied are often referred to as biological networks or biological systems. The field has its origins in graph theory and network theory, and has been applied to many areas of biology, including molecular biology, cell biology, and neuroscience.\\n\\n## History\\n\\nThe study of biological networks can be traced back to the early'}]]\n",
      "Processed 3000 batches; Printing example response...\n",
      "[[{'generated_text': 'Network biology is the study of biological systems using methods from applied mathematics, informatics, statistics and computer science. It focuses on complex interactions within the cell and between cells. These interactions can be studied by using mathematical models that are implemented in computer programs. The goal of this field is to develop mathematical models that can be used to understand biological systems. These models can be used to predict the behavior of a biological system in response to changes in its environment. This information can then be used to design new drugs'}]]\n",
      "Processed 3250 batches; Printing example response...\n",
      "[[{'generated_text': 'Network biology is the application of computational methods and mathematical models to biological systems, often with the goal of understanding the complex interactions among their components. It is a relatively new field that has grown out of the need to understand the complexity of biological systems. Biology is a complex science, and the study of biology has become increasingly interdisciplinary, with contributions from physics, chemistry, mathematics, and computer science. Network biology is an attempt to bring these disciplines together to better understand the workings of biological systems.\\nThe goal of'}]]\n",
      "Processed 3500 batches; Printing example response...\n",
      "[[{'generated_text': 'Network biology is an interdisciplinary field that studies the structure and dynamics of biological networks. It combines the techniques of graph theory and network science with the data and models of molecular biology and bioinformatics. The field has been growing rapidly in recent years, and is now used to study a wide range of biological problems, from the structure of protein-protein interaction networks to the dynamics of gene regulatory networks.\\nNetwork biology is a relatively new field, and as such, there is still much to be learned about how to'}]]\n",
      "Processed 3750 batches; Printing example response...\n",
      "[[{'generated_text': 'Network biology is a subfield of systems biology that focuses on the structure and dynamics of biological networks. Biological networks are a class of complex networks that are used to model biological systems. These networks can be used to represent the interactions between genes, proteins, and other biomolecules, as well as the relationships between different biological processes. Biological networks can be used to study the behavior of biological systems, and to identify potential targets for drug development.\\n\\nThere are several different types of biological networks, including metabolic networks,'}]]\n",
      "Processed 4000 batches; Printing example response...\n",
      "[[{'generated_text': 'Network biology is a field of study that applies the theory and practice of complex systems to biological systems. It is a multi-disciplinary field that involves applying complex systems theory to biological systems, and can be used to study a wide variety of biological systems, including gene regulatory networks, protein-protein interaction networks, and metabolic networks.\\nThe goal of network biology is to understand the structure and function of biological systems by analyzing the interactions between the components of the system. This can be done by analyzing the interactions between'}]]\n",
      "Processed 4250 batches; Printing example response...\n",
      "[[{'generated_text': 'Network biology is a relatively new discipline that uses computational approaches to understand complex biological systems. It is a rapidly growing field that has the potential to revolutionize our understanding of how biological systems work and how they can be manipulated to achieve desired outcomes. In this article, we will explore the basics of network biology, including its history, principles, and applications. We will also discuss the challenges and opportunities associated with this exciting field.\\nThe history of network biology can be traced back to the early 2000s'}]]\n",
      "Processed 4500 batches; Printing example response...\n",
      "[[{'generated_text': 'Network biology is a relatively new discipline that has evolved from the study of complex biological systems and the need to understand the underlying principles of their organization. The main idea of network biology is to view the cell as a complex network of interacting molecules and to study the dynamics of these interactions. This approach has led to the discovery of new principles of cell organization and the development of new tools for analyzing complex biological systems.\\nThe main goal of network biology is to understand the principles of organization of complex biological systems. The'}]]\n",
      "Processed 4750 batches; Printing example response...\n",
      "[[{'generated_text': 'Network biology is an emerging field that uses a systems approach to study biological systems. It is a multidisciplinary field that integrates information from different areas of biology, such as genomics, proteomics, and metabolomics, to understand how biological systems function as a whole. One of the main goals of network biology is to identify the complex networks of interactions that underlie biological processes and to understand how these networks are regulated.\\nOne of the key concepts in network biology is the idea of a network. A'}]]\n",
      "Processed 5000 batches; Printing example response...\n",
      "[[{'generated_text': 'Network biology is the study of the biological systems using mathematical and computational approaches. It involves the application of graph theory and systems biology to biological networks. The networks studied in systems biology are complex networks. The basic assumption of systems biology is that the system is more than the sum of its parts. The systems biology is applied to biological networks such as protein-protein interaction network, metabolic networks, gene regulatory networks, signaling networks, and transcriptional networks. The networks are represented as graphs, and the edges are'}]]\n",
      "Processed 5250 batches; Printing example response...\n",
      "[[{'generated_text': 'Network biology is a relatively new discipline, which uses mathematical models and computer simulations to describe and analyze complex biological systems. It has been used to study various aspects of biological systems, including gene regulation, signal transduction, and cell differentiation. Network biology is an important tool for understanding the complex interactions between different parts of a biological system, and for developing new therapies for diseases such as cancer.\\nWhat is a network in biology?\\nA network in biology is a collection of nodes (e.g., genes, proteins'}]]\n",
      "Processed 5500 batches; Printing example response...\n",
      "[[{'generated_text': 'Network biology is an interdisciplinary field that studies biological systems using methods from applied mathematics, informatics, statistics and engineering to form a systems view of biology. The field focuses on complex interactions within biological networks, such as gene regulatory networks, protein–protein interaction networks, and metabolic networks. It also includes the development and application of computational and analytical methods for studying biological systems. The field has a strong focus on the development and application of mathematical and computational methods, such as graph theory, machine learning, and data'}]]\n",
      "Processed 5750 batches; Printing example response...\n",
      "[[{'generated_text': 'Network biology is a field of science that studies biological networks. It is an interdisciplinary field that combines biology, computer science, mathematics and physics. It is the study of biological systems in terms of networks. It is a relatively new field that has emerged in the last few decades. It is a rapidly growing field that has many applications in the biomedical field.\\nThe field of network biology is still in its infancy. It is a field that is still in the process of being developed. It is a field that'}]]\n",
      "Processed 6000 batches; Printing example response...\n",
      "[[{'generated_text': 'Network biology is the study of the interactions between the components of biological systems and their complex interactions in the form of networks. It is an emerging research area that combines ideas from systems biology, graph theory, statistics, and computer science. The study of biological networks has become increasingly important because of the rapid increase in the amount of data being generated by high-throughput technologies. Biological networks can be used to study a variety of problems in biology, including gene regulation, protein interaction, and metabolic pathways. The study'}]]\n",
      "Processed 6250 batches; Printing example response...\n",
      "[[{'generated_text': 'Network biology is the study of complex networks, such as biological networks, using the methods of network theory. The study of biological networks is often referred to as systems biology, as opposed to the more traditional reductionist approach to biological research. Biological networks are often modeled as graphs, where the nodes represent the entities in the network (such as genes, proteins, or metabolites), and the edges represent the interactions between them (such as gene regulation, protein-protein interactions, or metabolic reactions). Network biology'}]]\n",
      "Processed 6500 batches; Printing example response...\n",
      "[[{'generated_text': 'Network biology is the study of the complex networks of interacting elements in a biological system. In biology, the study of networks is the study of the interactions between objects. The objects can be genes, proteins, molecules, cells, organisms, or any other biological entities that interact with each other. The interactions can be physical, chemical, or biological. The study of networks is important because it helps us understand how biological systems function and how they are affected by changes in their environment.\\nThe study of networks is'}]]\n",
      "Processed 6750 batches; Printing example response...\n",
      "[[{'generated_text': 'Network biology is a powerful tool for identifying key proteins in a network and can be used to discover new drug targets. A network is a set of nodes connected by edges. The nodes represent proteins and the edges represent interactions between proteins. The goal of network biology is to identify the most important proteins in a network by analyzing the relationships between them.\\nOne way to do this is to use a technique called centrality analysis. This involves calculating the centrality of each node in the network, which is a measure'}]]\n",
      "Processed 7000 batches; Printing example response...\n",
      "[[{'generated_text': 'Network biology is a discipline of systems biology that focuses on the use of biological network representation to understand the properties of biological processes. Biological networks are represented as graphs where the nodes of the graph represent the biological components (e.g., genes, proteins, metabolites, or chemical reactions) and the edges of the graph represent the interactions between the components (e.g., protein-protein interactions, gene regulatory interactions, or metabolic reactions). The study of biological networks aims to understand the properties of biological systems, such'}]]\n",
      "Processed 7250 batches; Printing example response...\n",
      "[[{'generated_text': 'Network biology is a rapidly developing field of research that combines computational and experimental approaches to study complex biological systems. The goal of network biology is to understand how the interactions between different components of a biological system, such as proteins, genes, and metabolites, give rise to the observed behaviors of the system. One of the key tools in network biology is the use of mathematical models to represent the interactions between different components of the system.\\nOne of the most common types of mathematical models used in network biology is the'}]]\n",
      "Processed 7500 batches; Printing example response...\n",
      "[[{'generated_text': 'Network biology is an emerging field of science that studies biological systems using methods from applied mathematics, informatics, statistics and physics. In this context, the term network refers to a collection of entities (nodes) connected by pairwise relationships (links). The relationships can be of various types, including physical interactions, functional relationships, co-expression, or any other meaningful connection between the entities. Biological networks are generally large, heterogeneous, and noisy. Network biology is a useful framework for understanding complex biological processes such as cell'}]]\n",
      "Processed 7750 batches; Printing example response...\n",
      "[[{'generated_text': 'Network biology is the study of complex networks such as biological networks. The network is a graph of nodes connected by edges. A biological network is a graph of biological entities (nodes) connected by interactions (edges). For example, the protein-protein interaction network is a graph of proteins connected by edges representing protein-protein interactions. The network is a powerful tool for representing and analyzing complex biological systems. Network biology is a rapidly growing field that has the potential to revolutionize our understanding of biology.\\nThe network'}]]\n",
      "Processed 8000 batches; Printing example response...\n",
      "[[{'generated_text': 'Network biology is the study of biological systems using a network approach. It is a rapidly growing field that uses a variety of tools and techniques from graph theory, statistics, and computer science to analyze biological data. The goal of network biology is to understand the complex interactions between genes, proteins, and other molecules in living cells.\\nNetwork biology has revolutionized the way we study biological systems. By using a network approach, we can identify key players in a system and understand how they interact with each other. This'}]]\n",
      "Processed 8250 batches; Printing example response...\n",
      "[[{'generated_text': 'Network biology is a rapidly developing field, which is based on the principles of systems biology and is concerned with the application of mathematical, statistical, and computational methods to analyze, model, and simulate complex biological systems. These systems are often described as networks of interacting entities, such as genes, proteins, metabolites, or cells, and the goal of network biology is to understand the structure and dynamics of these networks and their role in biological processes such as gene regulation, signal transduction, and disease progression.'}]]\n",
      "Processed 8500 batches; Printing example response...\n",
      "[[{'generated_text': 'Network biology is a fast growing research field that has developed over the past decade. It is concerned with the study of complex networks that are represented by graphs. Such networks are used to model biological systems, e.g., gene regulatory networks, metabolic networks, protein interaction networks, and social networks. In this paper, we propose a new approach for the analysis of biological networks based on the theory of fuzzy graphs. Fuzzy graphs are a generalization of classical graphs that allow for the representation of uncertain and im'}]]\n",
      "Processed 8750 batches; Printing example response...\n",
      "[[{'generated_text': 'Network biology is a field of science that studies biological systems using a network-based approach. Biological systems are modeled as networks of interactions between biological entities, such as genes, proteins, and metabolites. The analysis of these networks can provide insights into the structure and function of biological systems, and can help to identify key components and processes involved in complex biological phenomena, such as disease development and drug response.\\nOne of the main tools used in network biology is the analysis of networks using graph theory. Graph theory is'}]]\n",
      "Processed 9000 batches; Printing example response...\n",
      "[[{'generated_text': 'Network biology is a discipline at the interface of biology and mathematics that studies the structure and dynamics of biological networks, i.e. networks of interacting molecules or cells. It is a relatively new discipline that has emerged in the past two decades and has been used to understand a wide range of biological phenomena, from the molecular to the ecosystem level. In this paper, we will give an overview of the field of network biology, its methods and applications, and discuss some of the challenges and opportunities in the field.\\n'}]]\n",
      "Processed 9250 batches; Printing example response...\n",
      "[[{'generated_text': 'Network biology is a field of study that focuses on biological networks, which are complex systems of interacting molecules, genes, and other components. It is a relatively new field, but it has already made significant contributions to our understanding of biological processes. In this article, we will discuss the basics of network biology, including its history, methods, and applications.\\nNetwork biology is a relatively new field, but it has already made significant contributions to our understanding of biological processes. The field was first proposed by Albert-L'}]]\n",
      "Processed 9500 batches; Printing example response...\n",
      "[[{'generated_text': 'Network biology is a relatively new field that combines molecular biology, bioinformatics, and computer science. It focuses on understanding biological processes through the analysis of networks of genes, proteins, and other biological entities. It is used to study the interactions between different molecules and how they affect each other. It is also used to identify potential targets for drug development and to understand the mechanisms of diseases.\\nThe main goal of network biology is to understand how biological systems work and to identify potential targets for drug development. It is'}]]\n",
      "Processed 9750 batches; Printing example response...\n",
      "[[{'generated_text': 'Network biology is the study of the interaction of biological networks in a holistic way. The study of the interaction of biological networks in a holistic way. The study of the interaction of biological networks in a holistic way. The study of the interaction of biological networks in a holistic way. The study of the interaction of biological networks in a holistic way. The study of the interaction of biological networks in a holistic way. The study of the interaction of biological networks in a holistic way. The study of the interaction of'}]]\n",
      "Processed 10000 batches; Printing example response...\n",
      "[[{'generated_text': 'Network biology is an interdisciplinary field that studies biological systems using methods from applied mathematics, informatics, statistics and computer science. The field focuses on complex interactions within biological networks, such as gene and protein networks, neural networks, metabolic networks, and social networks. Network biology is also used to study the structure and function of biological systems, including the relationships between different parts of the system and the effects of changes in one part on the overall system.\\n\\n    - ### The effects of the COVID-19 pandemic on'}]]\n"
     ]
    },
    {
     "ename": "KeyboardInterrupt",
     "evalue": "",
     "output_type": "error",
     "traceback": [
      "\u001b[0;31m---------------------------------------------------------------------------\u001b[0m",
      "\u001b[0;31mKeyboardInterrupt\u001b[0m                         Traceback (most recent call last)",
      "Cell \u001b[0;32mIn[12], line 58\u001b[0m\n\u001b[1;32m     55\u001b[0m \u001b[38;5;66;03m# set model to eval mode\u001b[39;00m\n\u001b[1;32m     56\u001b[0m pipeline\u001b[38;5;241m.\u001b[39mmodel\u001b[38;5;241m.\u001b[39meval()\n\u001b[0;32m---> 58\u001b[0m \u001b[38;5;28;01mfor\u001b[39;00m batch \u001b[38;5;129;01min\u001b[39;00m val_dataloader:\n\u001b[1;32m     59\u001b[0m     batch \u001b[38;5;241m=\u001b[39m {k: v\u001b[38;5;241m.\u001b[39mto(device) \u001b[38;5;28;01mfor\u001b[39;00m k, v \u001b[38;5;129;01min\u001b[39;00m batch\u001b[38;5;241m.\u001b[39mitems()}\n\u001b[1;32m     60\u001b[0m     \u001b[38;5;28;01mwith\u001b[39;00m torch\u001b[38;5;241m.\u001b[39mno_grad():\n",
      "File \u001b[0;32m/mnt/DGX01/Personal/krusepi/.venv/lib/python3.8/site-packages/torch/utils/data/dataloader.py:631\u001b[0m, in \u001b[0;36m_BaseDataLoaderIter.__next__\u001b[0;34m(self)\u001b[0m\n\u001b[1;32m    628\u001b[0m \u001b[38;5;28;01mif\u001b[39;00m \u001b[38;5;28mself\u001b[39m\u001b[38;5;241m.\u001b[39m_sampler_iter \u001b[38;5;129;01mis\u001b[39;00m \u001b[38;5;28;01mNone\u001b[39;00m:\n\u001b[1;32m    629\u001b[0m     \u001b[38;5;66;03m# TODO(https://github.com/pytorch/pytorch/issues/76750)\u001b[39;00m\n\u001b[1;32m    630\u001b[0m     \u001b[38;5;28mself\u001b[39m\u001b[38;5;241m.\u001b[39m_reset()  \u001b[38;5;66;03m# type: ignore[call-arg]\u001b[39;00m\n\u001b[0;32m--> 631\u001b[0m data \u001b[38;5;241m=\u001b[39m \u001b[38;5;28;43mself\u001b[39;49m\u001b[38;5;241;43m.\u001b[39;49m\u001b[43m_next_data\u001b[49m\u001b[43m(\u001b[49m\u001b[43m)\u001b[49m\n\u001b[1;32m    632\u001b[0m \u001b[38;5;28mself\u001b[39m\u001b[38;5;241m.\u001b[39m_num_yielded \u001b[38;5;241m+\u001b[39m\u001b[38;5;241m=\u001b[39m \u001b[38;5;241m1\u001b[39m\n\u001b[1;32m    633\u001b[0m \u001b[38;5;28;01mif\u001b[39;00m \u001b[38;5;28mself\u001b[39m\u001b[38;5;241m.\u001b[39m_dataset_kind \u001b[38;5;241m==\u001b[39m _DatasetKind\u001b[38;5;241m.\u001b[39mIterable \u001b[38;5;129;01mand\u001b[39;00m \\\n\u001b[1;32m    634\u001b[0m         \u001b[38;5;28mself\u001b[39m\u001b[38;5;241m.\u001b[39m_IterableDataset_len_called \u001b[38;5;129;01mis\u001b[39;00m \u001b[38;5;129;01mnot\u001b[39;00m \u001b[38;5;28;01mNone\u001b[39;00m \u001b[38;5;129;01mand\u001b[39;00m \\\n\u001b[1;32m    635\u001b[0m         \u001b[38;5;28mself\u001b[39m\u001b[38;5;241m.\u001b[39m_num_yielded \u001b[38;5;241m>\u001b[39m \u001b[38;5;28mself\u001b[39m\u001b[38;5;241m.\u001b[39m_IterableDataset_len_called:\n",
      "File \u001b[0;32m/mnt/DGX01/Personal/krusepi/.venv/lib/python3.8/site-packages/torch/utils/data/dataloader.py:1329\u001b[0m, in \u001b[0;36m_MultiProcessingDataLoaderIter._next_data\u001b[0;34m(self)\u001b[0m\n\u001b[1;32m   1326\u001b[0m     \u001b[38;5;28;01mreturn\u001b[39;00m \u001b[38;5;28mself\u001b[39m\u001b[38;5;241m.\u001b[39m_process_data(data)\n\u001b[1;32m   1328\u001b[0m \u001b[38;5;28;01massert\u001b[39;00m \u001b[38;5;129;01mnot\u001b[39;00m \u001b[38;5;28mself\u001b[39m\u001b[38;5;241m.\u001b[39m_shutdown \u001b[38;5;129;01mand\u001b[39;00m \u001b[38;5;28mself\u001b[39m\u001b[38;5;241m.\u001b[39m_tasks_outstanding \u001b[38;5;241m>\u001b[39m \u001b[38;5;241m0\u001b[39m\n\u001b[0;32m-> 1329\u001b[0m idx, data \u001b[38;5;241m=\u001b[39m \u001b[38;5;28;43mself\u001b[39;49m\u001b[38;5;241;43m.\u001b[39;49m\u001b[43m_get_data\u001b[49m\u001b[43m(\u001b[49m\u001b[43m)\u001b[49m\n\u001b[1;32m   1330\u001b[0m \u001b[38;5;28mself\u001b[39m\u001b[38;5;241m.\u001b[39m_tasks_outstanding \u001b[38;5;241m-\u001b[39m\u001b[38;5;241m=\u001b[39m \u001b[38;5;241m1\u001b[39m\n\u001b[1;32m   1331\u001b[0m \u001b[38;5;28;01mif\u001b[39;00m \u001b[38;5;28mself\u001b[39m\u001b[38;5;241m.\u001b[39m_dataset_kind \u001b[38;5;241m==\u001b[39m _DatasetKind\u001b[38;5;241m.\u001b[39mIterable:\n\u001b[1;32m   1332\u001b[0m     \u001b[38;5;66;03m# Check for _IterableDatasetStopIteration\u001b[39;00m\n",
      "File \u001b[0;32m/mnt/DGX01/Personal/krusepi/.venv/lib/python3.8/site-packages/torch/utils/data/dataloader.py:1295\u001b[0m, in \u001b[0;36m_MultiProcessingDataLoaderIter._get_data\u001b[0;34m(self)\u001b[0m\n\u001b[1;32m   1291\u001b[0m     \u001b[38;5;66;03m# In this case, `self._data_queue` is a `queue.Queue`,. But we don't\u001b[39;00m\n\u001b[1;32m   1292\u001b[0m     \u001b[38;5;66;03m# need to call `.task_done()` because we don't use `.join()`.\u001b[39;00m\n\u001b[1;32m   1293\u001b[0m \u001b[38;5;28;01melse\u001b[39;00m:\n\u001b[1;32m   1294\u001b[0m     \u001b[38;5;28;01mwhile\u001b[39;00m \u001b[38;5;28;01mTrue\u001b[39;00m:\n\u001b[0;32m-> 1295\u001b[0m         success, data \u001b[38;5;241m=\u001b[39m \u001b[38;5;28;43mself\u001b[39;49m\u001b[38;5;241;43m.\u001b[39;49m\u001b[43m_try_get_data\u001b[49m\u001b[43m(\u001b[49m\u001b[43m)\u001b[49m\n\u001b[1;32m   1296\u001b[0m         \u001b[38;5;28;01mif\u001b[39;00m success:\n\u001b[1;32m   1297\u001b[0m             \u001b[38;5;28;01mreturn\u001b[39;00m data\n",
      "File \u001b[0;32m/mnt/DGX01/Personal/krusepi/.venv/lib/python3.8/site-packages/torch/utils/data/dataloader.py:1133\u001b[0m, in \u001b[0;36m_MultiProcessingDataLoaderIter._try_get_data\u001b[0;34m(self, timeout)\u001b[0m\n\u001b[1;32m   1120\u001b[0m \u001b[38;5;28;01mdef\u001b[39;00m \u001b[38;5;21m_try_get_data\u001b[39m(\u001b[38;5;28mself\u001b[39m, timeout\u001b[38;5;241m=\u001b[39m_utils\u001b[38;5;241m.\u001b[39mMP_STATUS_CHECK_INTERVAL):\n\u001b[1;32m   1121\u001b[0m     \u001b[38;5;66;03m# Tries to fetch data from `self._data_queue` once for a given timeout.\u001b[39;00m\n\u001b[1;32m   1122\u001b[0m     \u001b[38;5;66;03m# This can also be used as inner loop of fetching without timeout, with\u001b[39;00m\n\u001b[0;32m   (...)\u001b[0m\n\u001b[1;32m   1130\u001b[0m     \u001b[38;5;66;03m# Returns a 2-tuple:\u001b[39;00m\n\u001b[1;32m   1131\u001b[0m     \u001b[38;5;66;03m#   (bool: whether successfully get data, any: data if successful else None)\u001b[39;00m\n\u001b[1;32m   1132\u001b[0m     \u001b[38;5;28;01mtry\u001b[39;00m:\n\u001b[0;32m-> 1133\u001b[0m         data \u001b[38;5;241m=\u001b[39m \u001b[38;5;28;43mself\u001b[39;49m\u001b[38;5;241;43m.\u001b[39;49m\u001b[43m_data_queue\u001b[49m\u001b[38;5;241;43m.\u001b[39;49m\u001b[43mget\u001b[49m\u001b[43m(\u001b[49m\u001b[43mtimeout\u001b[49m\u001b[38;5;241;43m=\u001b[39;49m\u001b[43mtimeout\u001b[49m\u001b[43m)\u001b[49m\n\u001b[1;32m   1134\u001b[0m         \u001b[38;5;28;01mreturn\u001b[39;00m (\u001b[38;5;28;01mTrue\u001b[39;00m, data)\n\u001b[1;32m   1135\u001b[0m     \u001b[38;5;28;01mexcept\u001b[39;00m \u001b[38;5;167;01mException\u001b[39;00m \u001b[38;5;28;01mas\u001b[39;00m e:\n\u001b[1;32m   1136\u001b[0m         \u001b[38;5;66;03m# At timeout and error, we manually check whether any worker has\u001b[39;00m\n\u001b[1;32m   1137\u001b[0m         \u001b[38;5;66;03m# failed. Note that this is the only mechanism for Windows to detect\u001b[39;00m\n\u001b[1;32m   1138\u001b[0m         \u001b[38;5;66;03m# worker failures.\u001b[39;00m\n",
      "File \u001b[0;32m/usr/lib/python3.8/multiprocessing/queues.py:107\u001b[0m, in \u001b[0;36mQueue.get\u001b[0;34m(self, block, timeout)\u001b[0m\n\u001b[1;32m    105\u001b[0m \u001b[38;5;28;01mif\u001b[39;00m block:\n\u001b[1;32m    106\u001b[0m     timeout \u001b[38;5;241m=\u001b[39m deadline \u001b[38;5;241m-\u001b[39m time\u001b[38;5;241m.\u001b[39mmonotonic()\n\u001b[0;32m--> 107\u001b[0m     \u001b[38;5;28;01mif\u001b[39;00m \u001b[38;5;129;01mnot\u001b[39;00m \u001b[38;5;28;43mself\u001b[39;49m\u001b[38;5;241;43m.\u001b[39;49m\u001b[43m_poll\u001b[49m\u001b[43m(\u001b[49m\u001b[43mtimeout\u001b[49m\u001b[43m)\u001b[49m:\n\u001b[1;32m    108\u001b[0m         \u001b[38;5;28;01mraise\u001b[39;00m Empty\n\u001b[1;32m    109\u001b[0m \u001b[38;5;28;01melif\u001b[39;00m \u001b[38;5;129;01mnot\u001b[39;00m \u001b[38;5;28mself\u001b[39m\u001b[38;5;241m.\u001b[39m_poll():\n",
      "File \u001b[0;32m/usr/lib/python3.8/multiprocessing/connection.py:257\u001b[0m, in \u001b[0;36m_ConnectionBase.poll\u001b[0;34m(self, timeout)\u001b[0m\n\u001b[1;32m    255\u001b[0m \u001b[38;5;28mself\u001b[39m\u001b[38;5;241m.\u001b[39m_check_closed()\n\u001b[1;32m    256\u001b[0m \u001b[38;5;28mself\u001b[39m\u001b[38;5;241m.\u001b[39m_check_readable()\n\u001b[0;32m--> 257\u001b[0m \u001b[38;5;28;01mreturn\u001b[39;00m \u001b[38;5;28;43mself\u001b[39;49m\u001b[38;5;241;43m.\u001b[39;49m\u001b[43m_poll\u001b[49m\u001b[43m(\u001b[49m\u001b[43mtimeout\u001b[49m\u001b[43m)\u001b[49m\n",
      "File \u001b[0;32m/usr/lib/python3.8/multiprocessing/connection.py:424\u001b[0m, in \u001b[0;36mConnection._poll\u001b[0;34m(self, timeout)\u001b[0m\n\u001b[1;32m    423\u001b[0m \u001b[38;5;28;01mdef\u001b[39;00m \u001b[38;5;21m_poll\u001b[39m(\u001b[38;5;28mself\u001b[39m, timeout):\n\u001b[0;32m--> 424\u001b[0m     r \u001b[38;5;241m=\u001b[39m \u001b[43mwait\u001b[49m\u001b[43m(\u001b[49m\u001b[43m[\u001b[49m\u001b[38;5;28;43mself\u001b[39;49m\u001b[43m]\u001b[49m\u001b[43m,\u001b[49m\u001b[43m \u001b[49m\u001b[43mtimeout\u001b[49m\u001b[43m)\u001b[49m\n\u001b[1;32m    425\u001b[0m     \u001b[38;5;28;01mreturn\u001b[39;00m \u001b[38;5;28mbool\u001b[39m(r)\n",
      "File \u001b[0;32m/usr/lib/python3.8/multiprocessing/connection.py:931\u001b[0m, in \u001b[0;36mwait\u001b[0;34m(object_list, timeout)\u001b[0m\n\u001b[1;32m    928\u001b[0m     deadline \u001b[38;5;241m=\u001b[39m time\u001b[38;5;241m.\u001b[39mmonotonic() \u001b[38;5;241m+\u001b[39m timeout\n\u001b[1;32m    930\u001b[0m \u001b[38;5;28;01mwhile\u001b[39;00m \u001b[38;5;28;01mTrue\u001b[39;00m:\n\u001b[0;32m--> 931\u001b[0m     ready \u001b[38;5;241m=\u001b[39m \u001b[43mselector\u001b[49m\u001b[38;5;241;43m.\u001b[39;49m\u001b[43mselect\u001b[49m\u001b[43m(\u001b[49m\u001b[43mtimeout\u001b[49m\u001b[43m)\u001b[49m\n\u001b[1;32m    932\u001b[0m     \u001b[38;5;28;01mif\u001b[39;00m ready:\n\u001b[1;32m    933\u001b[0m         \u001b[38;5;28;01mreturn\u001b[39;00m [key\u001b[38;5;241m.\u001b[39mfileobj \u001b[38;5;28;01mfor\u001b[39;00m (key, events) \u001b[38;5;129;01min\u001b[39;00m ready]\n",
      "File \u001b[0;32m/usr/lib/python3.8/selectors.py:415\u001b[0m, in \u001b[0;36m_PollLikeSelector.select\u001b[0;34m(self, timeout)\u001b[0m\n\u001b[1;32m    413\u001b[0m ready \u001b[38;5;241m=\u001b[39m []\n\u001b[1;32m    414\u001b[0m \u001b[38;5;28;01mtry\u001b[39;00m:\n\u001b[0;32m--> 415\u001b[0m     fd_event_list \u001b[38;5;241m=\u001b[39m \u001b[38;5;28;43mself\u001b[39;49m\u001b[38;5;241;43m.\u001b[39;49m\u001b[43m_selector\u001b[49m\u001b[38;5;241;43m.\u001b[39;49m\u001b[43mpoll\u001b[49m\u001b[43m(\u001b[49m\u001b[43mtimeout\u001b[49m\u001b[43m)\u001b[49m\n\u001b[1;32m    416\u001b[0m \u001b[38;5;28;01mexcept\u001b[39;00m \u001b[38;5;167;01mInterruptedError\u001b[39;00m:\n\u001b[1;32m    417\u001b[0m     \u001b[38;5;28;01mreturn\u001b[39;00m ready\n",
      "\u001b[0;31mKeyboardInterrupt\u001b[0m: "
     ]
    }
   ],
   "source": [
    "# text for example after training\n",
    "text = [\"Network biology is\"]\n",
    "\n",
    "num_epochs = 3\n",
    "\n",
    "# loop\n",
    "for epoch in range(num_epochs):\n",
    "    \n",
    "    print(\"=====================\")\n",
    "    print(f\"Epoch {epoch + 1}\")\n",
    "    print(\"=====================\")\n",
    "\n",
    "    # set model to train mode\n",
    "    pipeline.model.train()\n",
    "\n",
    "    # initialize train loss, val loss\n",
    "    running_train_loss = 0.0\n",
    "    running_val_loss = 0.0\n",
    "\n",
    "    # loop through train data\n",
    "    print(\"Training...\")\n",
    "    i = 0\n",
    "    for batch in train_dataloader:\n",
    "\n",
    "        # grab batch and map to device\n",
    "        batch = {k: v.to(device) for k, v in batch.items()}\n",
    "\n",
    "        # forward pass\n",
    "        outputs = pipeline.model(**batch)\n",
    "        loss = outputs.loss\n",
    "\n",
    "\n",
    "        print(f\"batch loss: {loss:.4f}\\r\", end=\"\")\n",
    "\n",
    "        running_train_loss += loss.item()\n",
    "\n",
    "        # backward pass\n",
    "        accelerator.backward(loss)\n",
    "\n",
    "        # update optimizer, scheduler\n",
    "        optimizer.step()\n",
    "        lr_scheduler.step()\n",
    "\n",
    "        # zero gradients\n",
    "        optimizer.zero_grad()\n",
    "\n",
    "        i += 1\n",
    "        if i % 250 == 0:\n",
    "            print(f\"Processed {i} batches; Printing example response...\")\n",
    "            print(pipeline(text, max_length=100, truncation=True))\n",
    "        \n",
    "        if i == 10000:\n",
    "            break\n",
    "        \n",
    "    # set model to eval mode\n",
    "    pipeline.model.eval()\n",
    "\n",
    "    for batch in val_dataloader:\n",
    "        batch = {k: v.to(device) for k, v in batch.items()}\n",
    "        with torch.no_grad():\n",
    "            outputs = pipeline.model(**batch)\n",
    "            loss = outputs.loss\n",
    "            running_val_loss += loss.item()\n",
    "        \n",
    "    val_loss = running_val_loss / len(val_dataloader)\n",
    "\n",
    "    print(\"Printing example response...\")\n",
    "    print(pipeline(text, max_length=100, truncation=True))\n",
    "\n",
    "    train_loss = running_train_loss / len(train_dataloader)\n",
    "    print(f\"Avg. Train Loss: {train_loss:.4f}, Avg. Val Loss: {val_loss:.4f}\")\n",
    "    # print(\"Evaluation metrics:\", metric.compute())\n",
    "\n",
    "print(\"Training Complete!\")"
   ]
  },
  {
   "cell_type": "code",
   "execution_count": 13,
   "metadata": {},
   "outputs": [],
   "source": [
    "# run a test prediction\n",
    "messages = [\"network biology is\"]\n",
    "\n",
    "terminators = [\n",
    "    pipeline.tokenizer.eos_token_id,\n",
    "    pipeline.tokenizer.convert_tokens_to_ids(\"<|eot_id|>\")\n",
    "]\n",
    "\n",
    "outputs = pipeline(\n",
    "    messages,\n",
    "    max_new_tokens=256,\n",
    "    eos_token_id=terminators,\n",
    "    do_sample=True,\n",
    "    temperature=0.6,\n",
    "    top_p=0.9,\n",
    ")\n",
    "print(outputs)"
   ]
  }
 ],
 "metadata": {
  "kernelspec": {
   "display_name": ".venv",
   "language": "python",
   "name": "python3"
  },
  "language_info": {
   "codemirror_mode": {
    "name": "ipython",
    "version": 3
   },
   "file_extension": ".py",
   "mimetype": "text/x-python",
   "name": "python",
   "nbconvert_exporter": "python",
   "pygments_lexer": "ipython3",
   "version": "3.8.10"
  }
 },
 "nbformat": 4,
 "nbformat_minor": 2
}
